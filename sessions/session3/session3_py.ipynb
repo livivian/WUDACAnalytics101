{
 "cells": [
  {
   "cell_type": "markdown",
   "metadata": {},
   "source": [
    "# Workshop 3: Linear Regression and Data Viz\n",
    "\n",
    "### Basic Analyses \n",
    "\n",
    "* View data\n",
    "* Summary statistics"
   ]
  },
  {
   "cell_type": "code",
   "execution_count": 40,
   "metadata": {},
   "outputs": [],
   "source": [
    "import pandas as pd \n",
    "from pandas.api.types import CategoricalDtype\n",
    "import numpy as np\n",
    "import matplotlib.pyplot as plt\n",
    "import seaborn as sns\n",
    "from sklearn.linear_model import LinearRegression"
   ]
  },
  {
   "cell_type": "code",
   "execution_count": 31,
   "metadata": {},
   "outputs": [
    {
     "name": "stdout",
     "output_type": "stream",
     "text": [
      "<class 'pandas.core.frame.DataFrame'>\n",
      "RangeIndex: 2744248 entries, 0 to 2744247\n",
      "Data columns (total 36 columns):\n",
      "Unnamed: 0          int64\n",
      "res_status          int64\n",
      "education_89        float64\n",
      "education_03        float64\n",
      "education_flag      int64\n",
      "month               int64\n",
      "sex                 object\n",
      "detail_age          int64\n",
      "age_flag            float64\n",
      "age_recode          int64\n",
      "age_recode2         int64\n",
      "age_group           int64\n",
      "age_infant          float64\n",
      "death_place         int64\n",
      "marital             object\n",
      "day_of_week         int64\n",
      "data_year           int64\n",
      "at_work             object\n",
      "death_manner        float64\n",
      "burial              object\n",
      "autopsy             object\n",
      "activity            float64\n",
      "injury_place        float64\n",
      "underlying_cause    object\n",
      "cause_recode358     int64\n",
      "cause_recode113     int64\n",
      "cause_recode130     float64\n",
      "cause_recode39      int64\n",
      "multiple_causes     object\n",
      "race                int64\n",
      "race_bridged        float64\n",
      "race_flag           float64\n",
      "race_recode         int64\n",
      "race_recode2        int64\n",
      "hispanic            int64\n",
      "hispanic_recode     int64\n",
      "dtypes: float64(10), int64(19), object(7)\n",
      "memory usage: 753.7+ MB\n",
      "None\n"
     ]
    }
   ],
   "source": [
    "deaths_16 = pd.read_csv(\"deaths_16.csv\")\n",
    "print(deaths_16.info())"
   ]
  },
  {
   "cell_type": "code",
   "execution_count": 32,
   "metadata": {},
   "outputs": [
    {
     "name": "stdout",
     "output_type": "stream",
     "text": [
      "<class 'pandas.core.frame.DataFrame'>\n",
      "RangeIndex: 2744248 entries, 0 to 2744247\n",
      "Data columns (total 35 columns):\n",
      "res_status          int64\n",
      "education_89        float64\n",
      "education_03        float64\n",
      "education_flag      int64\n",
      "month               int64\n",
      "sex                 object\n",
      "detail_age          int64\n",
      "age_flag            float64\n",
      "age_recode          int64\n",
      "age_recode2         int64\n",
      "age_group           int64\n",
      "age_infant          float64\n",
      "death_place         int64\n",
      "marital             object\n",
      "day_of_week         int64\n",
      "data_year           int64\n",
      "at_work             object\n",
      "death_manner        float64\n",
      "burial              object\n",
      "autopsy             object\n",
      "activity            float64\n",
      "injury_place        float64\n",
      "underlying_cause    object\n",
      "cause_recode358     int64\n",
      "cause_recode113     int64\n",
      "cause_recode130     float64\n",
      "cause_recode39      int64\n",
      "multiple_causes     object\n",
      "race                int64\n",
      "race_bridged        float64\n",
      "race_flag           float64\n",
      "race_recode         int64\n",
      "race_recode2        int64\n",
      "hispanic            int64\n",
      "hispanic_recode     int64\n",
      "dtypes: float64(10), int64(18), object(7)\n",
      "memory usage: 732.8+ MB\n",
      "None\n"
     ]
    }
   ],
   "source": [
    "deaths_16 = deaths_16.drop(deaths_16.columns[0], axis = 1)\n",
    "print(deaths_16.info())"
   ]
  },
  {
   "cell_type": "code",
   "execution_count": 35,
   "metadata": {},
   "outputs": [
    {
     "name": "stdout",
     "output_type": "stream",
     "text": [
      "<class 'pandas.core.frame.DataFrame'>\n",
      "Int64Index: 235194 entries, 11 to 2744163\n",
      "Data columns (total 35 columns):\n",
      "res_status          235194 non-null int64\n",
      "education_89        2316 non-null float64\n",
      "education_03        232878 non-null float64\n",
      "education_flag      235194 non-null int64\n",
      "month               235194 non-null int64\n",
      "sex                 235194 non-null object\n",
      "detail_age          235194 non-null int64\n",
      "age_flag            0 non-null float64\n",
      "age_recode          235194 non-null int64\n",
      "age_recode2         235194 non-null int64\n",
      "age_group           235194 non-null int64\n",
      "age_infant          1634 non-null float64\n",
      "death_place         235194 non-null int64\n",
      "marital             235194 non-null object\n",
      "day_of_week         235194 non-null int64\n",
      "data_year           235194 non-null int64\n",
      "at_work             235194 non-null object\n",
      "death_manner        233773 non-null float64\n",
      "burial              235194 non-null object\n",
      "autopsy             235194 non-null object\n",
      "activity            228993 non-null float64\n",
      "injury_place        188030 non-null float64\n",
      "underlying_cause    235194 non-null object\n",
      "cause_recode358     235194 non-null int64\n",
      "cause_recode113     235194 non-null int64\n",
      "cause_recode130     1634 non-null float64\n",
      "cause_recode39      235194 non-null int64\n",
      "multiple_causes     235194 non-null object\n",
      "race                235194 non-null int64\n",
      "race_bridged        2159 non-null float64\n",
      "race_flag           3816 non-null float64\n",
      "race_recode         235194 non-null int64\n",
      "race_recode2        235194 non-null int64\n",
      "hispanic            235194 non-null int64\n",
      "hispanic_recode     235194 non-null int64\n",
      "dtypes: float64(10), int64(18), object(7)\n",
      "memory usage: 64.6+ MB\n",
      "None\n"
     ]
    }
   ],
   "source": [
    "initials = deaths_16['underlying_cause'].astype(str).str[0]\n",
    "initials = [i in ['*U', 'V', 'W', 'X', 'Y'] for i in initials]\n",
    "external = deaths_16[(deaths_16['res_status'] != 4) & initials]\n",
    "print(external.info())"
   ]
  },
  {
   "cell_type": "markdown",
   "metadata": {},
   "source": [
    "# Feature Engineering \n",
    "\n",
    "Feature engineering is another key step that is closely related to EDA, and again can be a make-or-break step for whether you get useful, interesting results. In feature engineering, you modify existing features ot better reflect reality, or create new features that capture information that is not clear from the existing data. This is a key point where the person doing the analysis adds value through their domain-specific knowledge. \n",
    "\n",
    "For example, if the data is marketing data or financial data, use the theory you have learned to think of what relationships you want to capture that is not clear from how the data is currently presented. \n",
    "\n",
    "* Discretizing variables automatically coded as continuous\n",
    "  + ex. Ratings on a scale from 1-5\n",
    "* Checking variable type - character, numerical, factor\n",
    "* Log-transforming features like price\n",
    "* Decomposing existing features\n",
    "  + ex. separating month from date/time to capture seasonal effects more clearly"
   ]
  },
  {
   "cell_type": "code",
   "execution_count": null,
   "metadata": {},
   "outputs": [],
   "source": [
    "external['edu'] = external['education_03'].fillna(external['education_89'])\n",
    "external['education'] = pd.cut(external.edu, bins = [0, 2, 3, 5, 8, 9], labels = [\"Less than HS\", \"HS/GED\", \"Some college\", \"BA+\", \"NA\"])\n",
    "\n",
    "def outside_factor(cause):\n",
    "    sharps_code = [\"X\" + str(i) for i in range(78, 100)]\n",
    "    vehicle_code = [\"V02\", \"V03\", \"V04\",\"V090\",\"V092\",\"V12\",\"V13\",\"V14\", \"V190\", \"V192\", \"V194\", \"V196\", \"V83\", \"V84\", \"V85\", \"V86\"] + [\"V\" + str(i) for i in range(20,80)] + [\"V803\",\"V804\",\"V805\",\"V810\",\"V811\",\"V820\",\"V821\"] + [\"V87\" + str(i) for i in range(9)] + [\"V88\" + str(i) for i in range(9)] + [\"V890\", \"V892\"]\n",
    "    if cause in [\"W32\",\"W33\",\"W34\",\"X72\",\"X73\",\"X74\",\"*U014\",\"X93\",\"X94\",\"X95\"]:\n",
    "        return \"Gun\"\n",
    "    elif cause in [\"X40\", \"X41\", \"X42\", \"X43\", \"X44\", \"X60\", \"X61\", \"X62\", \"X63\", \"X64\", \"X85\", \"X86\", \"X87\", \"X88\", \"X89\", \"X90\"]:\n",
    "        return \"Drugs\"\n",
    "    elif cause in sharps_code:\n",
    "        return \"Sharps\"\n",
    "    elif cause in vehicle_code:\n",
    "        return \"Vehicle\"\n",
    "    else:\n",
    "        return \"Other\"  \n",
    "external['outside_factor'] = external.underlying_cause.map(outside_factor)\n",
    "\n",
    "def age(detail):\n",
    "    digits = str(detail)\n",
    "    age = int(digits[1:3]) if int(digits[0]) == 1 else (np.nan if detail == 999 else 0)\n",
    "    if age == 999:\n",
    "        age = np.nan\n",
    "    return age\n",
    "external['age'] = external.detail_age.map(age)\n",
    "external['young'] = external.age.map(lambda x: 1 if x <= 18 else 0)\n",
    "\n",
    "def race(row):\n",
    "    if np.isnan(row['race']):\n",
    "        return \"Unknown\"\n",
    "    race = \"Hispanic\" if (row['hispanic'] > 199 and row['hispanic'] < 996) else (\"White\" if row['race'] == 1 else (\"Black\" if row['race'] == 2 else (\"Asian/Pacific Islander\" if (row['race'] >= 4 and row['race'] <= 78) else \"Native American/Native Alaskan\")))\n",
    "    return race\n",
    "external['race'] = external.apply(race, axis = 1)\n",
    "\n",
    "external = external[['month', 'sex', 'age', 'young', 'race', 'hispanic', 'education', 'outside_factor']]\n",
    "for column in ['sex', 'race', 'education']:\n",
    "    external[column] = external[column].astype('category')\n",
    "print(external.info())\n",
    "print(external.head())"
   ]
  },
  {
   "cell_type": "markdown",
   "metadata": {},
   "source": [
    "## Avoid P-hacking\n",
    "\n",
    "One thing to keep in mind as you do this step is to **avoid p-hacking**. P-hacking refers broadly to methods used to manipulate data and get a result that looks significant - e.g., has a p-value < 0.05, hence the name.\n",
    "\n",
    "If you try every single possible combination of features while doing feature engineering, you may find a combination that seems to be well-correlated with your response variable. However, this may be a spurious correlation, simply due to the sample data you happened to collect. \n",
    "\n",
    "This is why using domain knowledge while feature engineering is essential - ideally, only create features for which there is a solid reasoning: first think of the logic of what you are trying to capture, then try to create a feature for it. This is more rigorous than making a few features, then retroactively trying to find explanations for why it may be well correlated. (That being said, people often do the latter in practice.)"
   ]
  },
  {
   "cell_type": "code",
   "execution_count": 60,
   "metadata": {
    "scrolled": true
   },
   "outputs": [
    {
     "data": {
      "image/png": "[encoded data removed]",
      "text/plain": [
       "<matplotlib.figure.Figure at 0x174a1980c18>"
      ]
     },
     "metadata": {},
     "output_type": "display_data"
    }
   ],
   "source": [
    "sns.distplot(external.age, kde=False)\n",
    "plt.show()"
   ]
  },
  {
   "cell_type": "code",
   "execution_count": 62,
   "metadata": {},
   "outputs": [
    {
     "data": {
      "image/png": "[encoded data removed]",
      "text/plain": [
       "<matplotlib.figure.Figure at 0x174928dc2e8>"
      ]
     },
     "metadata": {},
     "output_type": "display_data"
    }
   ],
   "source": [
    "sns.barplot(external.month, external.age)\n",
    "plt.show()"
   ]
  },
  {
   "cell_type": "code",
   "execution_count": 63,
   "metadata": {},
   "outputs": [
    {
     "data": {
      "image/png": "[encoded data removed]",
      "text/plain": [
       "<matplotlib.figure.Figure at 0x17404bd4e10>"
      ]
     },
     "metadata": {},
     "output_type": "display_data"
    }
   ],
   "source": [
    "ax_race = sns.boxplot(external.race, external.age)\n",
    "ax_race.set(xlabel = 'Race', ylabel = 'Age')\n",
    "plt.show()"
   ]
  },
  {
   "cell_type": "code",
   "execution_count": null,
   "metadata": {},
   "outputs": [],
   "source": [
    "ax_intent = sns.boxplot(external.intent, external.age)\n",
    "ax_intent.set(xlabel = \"Intent\", ylabel = \"Age\")\n",
    "plt.show()"
   ]
  },
  {
   "cell_type": "markdown",
   "metadata": {},
   "source": [
    "# General Principles of Modeling\n",
    "\n",
    "Models can be built for many reasons:\n",
    "* Express unstructured/alternative data in a form that can be fed into later predictive models (ex. document term matrix, topic model)\n",
    "* Explanatory - explain relationships between response variable and some features (ex. linear regression)\n",
    "* Predict some response variable based on some features (ex. gradient boosted model)"
   ]
  },
  {
   "cell_type": "code",
   "execution_count": 76,
   "metadata": {},
   "outputs": [
    {
     "name": "stdout",
     "output_type": "stream",
     "text": [
      "Coefficients: [-0.06662979 -0.12408337 -0.00982011  0.38390811 -0.005605    0.10052049]\n",
      "Intercept: 4.6160918900362775\n",
      "Score: 9.82544150743836e-05\n",
      "Coefficients: [-3.92607951e+12 -3.92607951e+12]\n",
      "Intercept: 3926079506489.84\n",
      "Score: 0.03125991815092066\n"
     ]
    }
   ],
   "source": [
    "lin_reg1 = LinearRegression()\n",
    "lin_reg1.fit(pd.get_dummies(external.intent), external.age)\n",
    "print(\"Coefficients: {0}\".format(lin_reg1.coef_))\n",
    "print(\"Intercept: {0}\".format(lin_reg1.intercept_))\n",
    "print(\"Score: {0}\".format(lin_reg1.score(pd.get_dummies(external.intent), external.age)))\n",
    "\n",
    "lin_reg2 = LinearRegression()\n",
    "lin_reg2.fit(pd.get_dummies(external.sex), external.age)\n",
    "print(\"Coefficients: {0}\".format(lin_reg2.coef_))\n",
    "print(\"Intercept: {0}\".format(lin_reg2.intercept_))\n",
    "print(\"Score: {0}\".format(lin_reg2.score(pd.get_dummies(external.sex), external.age)))"
   ]
  }
 ],
 "metadata": {
  "kernelspec": {
   "display_name": "Python 3",
   "language": "python",
   "name": "python3"
  },
  "language_info": {
   "codemirror_mode": {
    "name": "ipython",
    "version": 3
   },
   "file_extension": ".py",
   "mimetype": "text/x-python",
   "name": "python",
   "nbconvert_exporter": "python",
   "pygments_lexer": "ipython3",
   "version": "3.6.4"
  }
 },
 "nbformat": 4,
 "nbformat_minor": 2
}
